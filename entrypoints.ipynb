{
 "cells": [
  {
   "cell_type": "code",
   "execution_count": 1,
   "metadata": {},
   "outputs": [],
   "source": [
    "# For this notebook setup is: python -m pip install plugins/vikings\n",
    "#\n",
    "# A more realistic workflow would be to create a PyPI package and then the user just needs\n",
    "# to include it in the dependencies in the pyproject.toml file (for example)"
   ]
  },
  {
   "cell_type": "code",
   "execution_count": 2,
   "metadata": {},
   "outputs": [
    {
     "data": {
      "text/plain": [
       "'I am Ivar the Boneless! '"
      ]
     },
     "execution_count": 2,
     "metadata": {},
     "output_type": "execute_result"
    }
   ],
   "source": [
    "# ugly original version, just to show that it was automatically loaded into the config\n",
    "from ragna import Config\n",
    "\n",
    "config = Config()\n",
    "config.core.assistants[1](config).answer(\"Who are you?\", [])"
   ]
  },
  {
   "cell_type": "code",
   "execution_count": 3,
   "metadata": {},
   "outputs": [
    {
     "data": {
      "text/plain": [
       "'I am Ivar the Boneless! '"
      ]
     },
     "execution_count": 3,
     "metadata": {},
     "output_type": "execute_result"
    }
   ],
   "source": [
    "# much nicer version for Python API\n",
    "from vikings.assistants import Ivar\n",
    "\n",
    "from ragna import Config\n",
    "\n",
    "Ivar(Config()).answer(\"Who are you?\", [])"
   ]
  }
 ],
 "metadata": {
  "kernelspec": {
   "display_name": "ragna-dev",
   "language": "python",
   "name": "ragna-dev"
  },
  "language_info": {
   "codemirror_mode": {
    "name": "ipython",
    "version": 3
   },
   "file_extension": ".py",
   "mimetype": "text/x-python",
   "name": "python",
   "nbconvert_exporter": "python",
   "pygments_lexer": "ipython3",
   "version": "3.9.18"
  },
  "orig_nbformat": 4
 },
 "nbformat": 4,
 "nbformat_minor": 2
}
