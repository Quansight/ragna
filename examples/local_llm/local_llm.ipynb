{
 "cells": [
  {
   "cell_type": "code",
   "execution_count": 1,
   "id": "68349291-a5dd-41cb-b686-0f9101018ef0",
   "metadata": {},
   "outputs": [
    {
     "name": "stderr",
     "output_type": "stream",
     "text": [
      "platform/c++/implementation/internal.cpp:205:reinit_singlethreaded(): Reinitialising as single-threaded.\n"
     ]
    }
   ],
   "source": [
    "from ragna.core import Assistant, PackageRequirement, Source\n",
    "\n",
    "\n",
    "class AiroborosAssistant(Assistant):\n",
    "    @classmethod\n",
    "    def display_name(cls):\n",
    "        return \"TheBloke/Airoboros-L2-7B-2.2-GPTQ\"\n",
    "\n",
    "    @classmethod\n",
    "    def requirements(cls):\n",
    "        return [\n",
    "            PackageRequirement(\"torch\"),\n",
    "            PackageRequirement(\"optimum\"),\n",
    "            PackageRequirement(\"auto-gptq\"),\n",
    "        ]\n",
    "\n",
    "    @classmethod\n",
    "    def is_available(cls):\n",
    "        requirements_available = super().is_available()\n",
    "        if not requirements_available:\n",
    "            return False\n",
    "\n",
    "        import torch\n",
    "\n",
    "        return torch.cuda.is_available()\n",
    "\n",
    "    def __init__(self, config):\n",
    "        super().__init__(config)\n",
    "\n",
    "        from auto_gptq import AutoGPTQForCausalLM\n",
    "        from transformers import AutoTokenizer\n",
    "\n",
    "        self.tokenizer = AutoTokenizer.from_pretrained(str(self), use_fast=True)\n",
    "        self.model = AutoGPTQForCausalLM.from_quantized(\n",
    "            str(self),\n",
    "            device_map=\"auto\",\n",
    "            use_triton=False,\n",
    "            use_safetensors=True,\n",
    "            trust_remote_code=False,\n",
    "            inject_fused_attention=False,\n",
    "        )\n",
    "\n",
    "    @property\n",
    "    def max_input_size(self) -> int:\n",
    "        # FIXME\n",
    "        return 1024\n",
    "\n",
    "    def answer(\n",
    "        self, prompt: str, sources: list[Source], *, max_new_tokens: int = 256\n",
    "    ) -> str:\n",
    "        template = \"\"\"\n",
    "        A chat about the content of documents.\n",
    "        Only use the content listed below to answer any questions from the user.\n",
    "        Do not make up information.\n",
    "        If you can't answer a question based on the information you are given, just say so.\n",
    "\n",
    "        {sources}\n",
    "        \n",
    "        USER: {prompt}\n",
    "        ASSISTANT: \n",
    "        \"\"\"\n",
    "        templated_prompt = template.format(\n",
    "            sources=\"- \" + \"\\n - \".join(source.content for source in sources),\n",
    "            prompt=prompt,\n",
    "        )\n",
    "        input_ids = self.tokenizer(\n",
    "            templated_prompt, return_tensors=\"pt\"\n",
    "        ).input_ids.cuda()\n",
    "        output_ids = self.model.generate(\n",
    "            inputs=input_ids,\n",
    "            do_sample=False,\n",
    "            max_new_tokens=max_new_tokens,\n",
    "        )\n",
    "        output = self.tokenizer.decode(output_ids[0])\n",
    "        return output.rsplit(\"ASSISTANT:\", 1)[-1].replace(\"</s>\", \"\").strip()\n",
    "\n",
    "\n",
    "assert AiroborosAssistant.is_available()"
   ]
  },
  {
   "cell_type": "code",
   "execution_count": 2,
   "id": "7f4a5263-6d5c-4505-bcbe-d74ce96144ed",
   "metadata": {},
   "outputs": [
    {
     "name": "stderr",
     "output_type": "stream",
     "text": [
      "skip module injection for FusedLlamaMLPForQuantizedModel not support integrate without triton yet.\n"
     ]
    },
    {
     "name": "stdout",
     "output_type": "stream",
     "text": [
      "User: What is Ragna?\n",
      "Assistant: Ragna is an open-source application for RAG workflows. It offers a Python and REST API as well as a web UI.\n"
     ]
    }
   ],
   "source": [
    "from ragna.core import Rag\n",
    "from ragna.source_storages import RagnaDemoSourceStorage\n",
    "\n",
    "rag = Rag()\n",
    "\n",
    "path = \"ragna.txt\"\n",
    "with open(path, \"w\") as file:\n",
    "    file.write(\n",
    "        \"Ragna is an OSS app for RAG workflows that offers a Python and REST API as well as web UI\\n\"\n",
    "    )\n",
    "\n",
    "async with rag.chat(\n",
    "    documents=[path],\n",
    "    source_storage=RagnaDemoSourceStorage,\n",
    "    assistant=AiroborosAssistant,\n",
    ") as chat:\n",
    "    prompt = \"What is Ragna?\"\n",
    "    message = await chat.answer(prompt)\n",
    "    answer = message.content\n",
    "\n",
    "print(f\"User: {prompt}\")\n",
    "print(f\"Assistant: {answer}\")"
   ]
  }
 ],
 "metadata": {
  "kernelspec": {
   "display_name": "Python 3 (ipykernel)",
   "language": "python",
   "name": "python3"
  },
  "language_info": {
   "codemirror_mode": {
    "name": "ipython",
    "version": 3
   },
   "file_extension": ".py",
   "mimetype": "text/x-python",
   "name": "python",
   "nbconvert_exporter": "python",
   "pygments_lexer": "ipython3",
   "version": "3.9.18"
  }
 },
 "nbformat": 4,
 "nbformat_minor": 5
}
