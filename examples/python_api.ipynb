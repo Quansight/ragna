{
 "cells": [
  {
   "cell_type": "code",
   "execution_count": 1,
   "id": "3d1b9f01-ae07-488e-b3d2-62d01ad828c9",
   "metadata": {},
   "outputs": [],
   "source": [
    "from dotenv import load_dotenv\n",
    "\n",
    "assert load_dotenv(\"../../Quansight/generative-ai-expts/.env\")"
   ]
  },
  {
   "cell_type": "code",
   "execution_count": 2,
   "id": "a3e91c88-13ca-417e-8205-9ef3b16f0d7d",
   "metadata": {},
   "outputs": [
    {
     "data": {
      "text/plain": [
       "'0.1.dev15+g09e6dce.d20230911134544'"
      ]
     },
     "execution_count": 2,
     "metadata": {},
     "output_type": "execute_result"
    }
   ],
   "source": [
    "import ragna2\n",
    "\n",
    "ragna2.__version__"
   ]
  },
  {
   "cell_type": "code",
   "execution_count": 3,
   "id": "5a3759a6-ffb0-47f7-be40-cf9d62fc67da",
   "metadata": {},
   "outputs": [
    {
     "data": {
      "text/plain": [
       "Config(local_cache_root=PosixPath('/home/philip/.cache/ragna'), state_database_url='sqlite:////home/philip/.cache/ragna/ragna.db', queue_database_url='redis://127.0.0.1:6379', registered_source_storage_classes={}, registered_llm_classes={})"
      ]
     },
     "execution_count": 3,
     "metadata": {},
     "output_type": "execute_result"
    }
   ],
   "source": [
    "from ragna2.core import Config\n",
    "\n",
    "config = Config()\n",
    "config"
   ]
  },
  {
   "cell_type": "code",
   "execution_count": 4,
   "id": "87613cac-44ba-4b85-ad3e-a1127dd65aa5",
   "metadata": {},
   "outputs": [],
   "source": [
    "document_path = \"demo_document.txt\"\n",
    "\n",
    "with open(document_path, \"w\") as file:\n",
    "    file.write(\"Ragna is an open-source RAG orchestration app\\n\")"
   ]
  },
  {
   "cell_type": "code",
   "execution_count": 5,
   "id": "818ff37c-d693-44b2-9d56-104eb2d86f59",
   "metadata": {},
   "outputs": [
    {
     "name": "stdout",
     "output_type": "stream",
     "text": [
      "17:57:56 Worker rq:worker:6a4e706a47ad4f37b16d57f91afcb518 started with PID 38319, version 1.15.1\n",
      "17:57:56 Subscribing to channel rq:pubsub:6a4e706a47ad4f37b16d57f91afcb518\n",
      "17:57:56 *** Listening on default...\n",
      "{\"event\": \"No registered components available\", \"timestamp\": \"2023-09-11T15:57:58.323259Z\", \"level\": \"warning\", \"pathname\": \"/home/philip/git/ora/ragna2/core/_rag.py\", \"lineno\": 97}\n",
      "{\"event\": \"No registered components available\", \"timestamp\": \"2023-09-11T15:57:58.405552Z\", \"level\": \"warning\", \"pathname\": \"/home/philip/git/ora/ragna2/core/_rag.py\", \"lineno\": 97}\n",
      "17:57:58 default: ragna2.core._queue.Worker._execute_job(b\"\\x80\\x05\\x95\\x10\\x0b\\x00\\x00\\x00\\x00\\x00\\x00\\x8c\\x17cloudpickle.cloudpick...) (03310894-1bac-4825-b1c8-0ca2dbec2241)\n",
      "17:57:58 default: Job OK (03310894-1bac-4825-b1c8-0ca2dbec2241)\n",
      "17:57:58 Result is kept for 500 seconds\n",
      "17:57:58 default: ragna2.core._queue.Worker._execute_job(b\"\\x80\\x05\\x95k\\n\\x00\\x00\\x00\\x00\\x00\\x00\\x8c\\x17cloudpickle.cloudpickle\\x9...) (c332b9e4-45e7-4486-b1c7-b0579a45460c)\n",
      "17:57:58 default: Job OK (c332b9e4-45e7-4486-b1c7-b0579a45460c)\n",
      "17:57:58 Result is kept for 500 seconds\n",
      "17:57:58 default: ragna2.core._queue.Worker._execute_job(b\"\\x80\\x05\\x95\\xaa\\n\\x00\\x00\\x00\\x00\\x00\\x00\\x8c\\x17cloudpickle.cloudpickle...) (bbb2cf96-3d97-406c-94ac-fc4897ed8e28)\n",
      "17:57:58 default: Job OK (bbb2cf96-3d97-406c-94ac-fc4897ed8e28)\n",
      "17:57:58 Result is kept for 500 seconds\n"
     ]
    },
    {
     "data": {
      "text/plain": [
       "\"I'm just pretending to be an LLM, so I can't actually help with your prompt.\""
      ]
     },
     "execution_count": 5,
     "metadata": {},
     "output_type": "execute_result"
    }
   ],
   "source": [
    "from ragna2.core import Rag\n",
    "from ragna2.llm import RagnaDemoLlm\n",
    "from ragna2.source_storage import RagnaDemoSourceStorage\n",
    "\n",
    "rag = Rag(config, start_ragna_worker=True)\n",
    "\n",
    "chat = await rag.start_new_chat(\n",
    "    documents=[document_path], \n",
    "    source_storage=RagnaDemoSourceStorage, \n",
    "    llm=RagnaDemoLlm,\n",
    ")\n",
    "\n",
    "prompt = \"What is Ragna?\"\n",
    "await chat.answer(prompt)"
   ]
  },
  {
   "cell_type": "code",
   "execution_count": 7,
   "id": "4c2f04c8-a0e1-47fc-a900-bc03b91088a2",
   "metadata": {
    "scrolled": true
   },
   "outputs": [
    {
     "name": "stdout",
     "output_type": "stream",
     "text": [
      "17:58:51 default: ragna2.core._queue.Worker._execute_job(b\"\\x80\\x05\\x95\\xef\\n\\x00\\x00\\x00\\x00\\x00\\x00\\x8c\\x17cloudpickle.cloudpickle...) (e7a27abb-d191-43cb-b644-31a9eaf93a5f)\n",
      "17:58:52 default: Job OK (e7a27abb-d191-43cb-b644-31a9eaf93a5f)\n",
      "17:58:52 Result is kept for 500 seconds\n",
      "17:58:52 default: ragna2.core._queue.Worker._execute_job(b\"\\x80\\x05\\x95\\xef\\n\\x00\\x00\\x00\\x00\\x00\\x00\\x8c\\x17cloudpickle.cloudpickle...) (116c74ff-413d-4f70-9409-ba1fe9988d74)\n",
      "17:58:52 default: Job OK (116c74ff-413d-4f70-9409-ba1fe9988d74)\n",
      "17:58:52 Result is kept for 500 seconds\n",
      "17:58:52 default: ragna2.core._queue.Worker._execute_job(b\"\\x80\\x05\\x95H\\n\\x00\\x00\\x00\\x00\\x00\\x00\\x8c\\x17cloudpickle.cloudpickle\\x9...) (83c97010-f977-4b7a-9b03-216e969fc3e3)\n",
      "17:58:53 default: Job OK (83c97010-f977-4b7a-9b03-216e969fc3e3)\n",
      "17:58:53 Result is kept for 500 seconds\n",
      "17:58:53 default: ragna2.core._queue.Worker._execute_job(b\"\\x80\\x05\\x95H\\n\\x00\\x00\\x00\\x00\\x00\\x00\\x8c\\x17cloudpickle.cloudpickle\\x9...) (cd9bf357-7269-4bfb-b372-1520b1dbed1f)\n",
      "17:58:53 default: Job OK (cd9bf357-7269-4bfb-b372-1520b1dbed1f)\n",
      "17:58:53 Result is kept for 500 seconds\n",
      "17:58:53 default: ragna2.core._queue.Worker._execute_job(b\"\\x80\\x05\\x956\\x0b\\x00\\x00\\x00\\x00\\x00\\x00\\x8c\\x17cloudpickle.cloudpickle\\...) (b28c8baa-2d8f-4bf8-b81f-da90b101d845)\n",
      "17:58:57 default: Job OK (b28c8baa-2d8f-4bf8-b81f-da90b101d845)\n",
      "17:58:57 Result is kept for 500 seconds\n",
      "17:58:57 default: ragna2.core._queue.Worker._execute_job(b\"\\x80\\x05\\x95!\\x0b\\x00\\x00\\x00\\x00\\x00\\x00\\x8c\\x17cloudpickle.cloudpickle\\...) (889107db-e210-42cb-b909-cc515f69f0f4)\n",
      "17:59:02 default: Job OK (889107db-e210-42cb-b909-cc515f69f0f4)\n",
      "17:59:02 Result is kept for 500 seconds\n",
      "{(\"<class 'ragna2.source_storage._chroma.ChromaSourceStorage'>\", \"<class 'ragna2.llm._openai.OpenaiGpt35Turbo16kLlm'>\"): 'Ragna '\n",
      "                                                                                                                         'is '\n",
      "                                                                                                                         'an '\n",
      "                                                                                                                         'open-source '\n",
      "                                                                                                                         'RAG '\n",
      "                                                                                                                         'orchestration '\n",
      "                                                                                                                         'app. '\n",
      "                                                                                                                         'It '\n",
      "                                                                                                                         'is '\n",
      "                                                                                                                         'designed '\n",
      "                                                                                                                         'to '\n",
      "                                                                                                                         'help '\n",
      "                                                                                                                         'users '\n",
      "                                                                                                                         'manage '\n",
      "                                                                                                                         'and '\n",
      "                                                                                                                         'automate '\n",
      "                                                                                                                         'their '\n",
      "                                                                                                                         'RAG '\n",
      "                                                                                                                         '(Red, '\n",
      "                                                                                                                         'Amber, '\n",
      "                                                                                                                         'Green) '\n",
      "                                                                                                                         'status '\n",
      "                                                                                                                         'reporting '\n",
      "                                                                                                                         'process. '\n",
      "                                                                                                                         'Ragna '\n",
      "                                                                                                                         'allows '\n",
      "                                                                                                                         'users '\n",
      "                                                                                                                         'to '\n",
      "                                                                                                                         'easily '\n",
      "                                                                                                                         'track '\n",
      "                                                                                                                         'and '\n",
      "                                                                                                                         'update '\n",
      "                                                                                                                         'the '\n",
      "                                                                                                                         'status '\n",
      "                                                                                                                         'of '\n",
      "                                                                                                                         'various '\n",
      "                                                                                                                         'tasks '\n",
      "                                                                                                                         'or '\n",
      "                                                                                                                         'projects, '\n",
      "                                                                                                                         'and '\n",
      "                                                                                                                         'provides '\n",
      "                                                                                                                         'a '\n",
      "                                                                                                                         'visual '\n",
      "                                                                                                                         'representation '\n",
      "                                                                                                                         'of '\n",
      "                                                                                                                         'the '\n",
      "                                                                                                                         'overall '\n",
      "                                                                                                                         'progress. '\n",
      "                                                                                                                         'It '\n",
      "                                                                                                                         'is '\n",
      "                                                                                                                         'a '\n",
      "                                                                                                                         'useful '\n",
      "                                                                                                                         'tool '\n",
      "                                                                                                                         'for '\n",
      "                                                                                                                         'teams '\n",
      "                                                                                                                         'or '\n",
      "                                                                                                                         'individuals '\n",
      "                                                                                                                         'who '\n",
      "                                                                                                                         'need '\n",
      "                                                                                                                         'to '\n",
      "                                                                                                                         'regularly '\n",
      "                                                                                                                         'report '\n",
      "                                                                                                                         'on '\n",
      "                                                                                                                         'the '\n",
      "                                                                                                                         'status '\n",
      "                                                                                                                         'of '\n",
      "                                                                                                                         'their '\n",
      "                                                                                                                         'work.',\n",
      " (\"<class 'ragna2.source_storage._chroma.ChromaSourceStorage'>\", \"<class 'ragna2.llm._openai.OpenaiGpt4Llm'>\"): 'Ragna '\n",
      "                                                                                                                'is '\n",
      "                                                                                                                'an '\n",
      "                                                                                                                'open-source '\n",
      "                                                                                                                'RAG '\n",
      "                                                                                                                '(Retrieve '\n",
      "                                                                                                                'and '\n",
      "                                                                                                                'Generate) '\n",
      "                                                                                                                'orchestration '\n",
      "                                                                                                                'app. '\n",
      "                                                                                                                \"It's \"\n",
      "                                                                                                                'a '\n",
      "                                                                                                                'tool '\n",
      "                                                                                                                'that '\n",
      "                                                                                                                'helps '\n",
      "                                                                                                                'manage '\n",
      "                                                                                                                'and '\n",
      "                                                                                                                'coordinate '\n",
      "                                                                                                                'the '\n",
      "                                                                                                                'process '\n",
      "                                                                                                                'of '\n",
      "                                                                                                                'retrieving '\n",
      "                                                                                                                'and '\n",
      "                                                                                                                'generating '\n",
      "                                                                                                                'data. '\n",
      "                                                                                                                'Being '\n",
      "                                                                                                                'open-source, '\n",
      "                                                                                                                'it '\n",
      "                                                                                                                'allows '\n",
      "                                                                                                                'developers '\n",
      "                                                                                                                'to '\n",
      "                                                                                                                'modify '\n",
      "                                                                                                                'and '\n",
      "                                                                                                                'distribute '\n",
      "                                                                                                                'the '\n",
      "                                                                                                                'software '\n",
      "                                                                                                                'to '\n",
      "                                                                                                                'meet '\n",
      "                                                                                                                'their '\n",
      "                                                                                                                'specific '\n",
      "                                                                                                                'needs.'}\n"
     ]
    }
   ],
   "source": [
    "import itertools\n",
    "import asyncio\n",
    "from ragna2.llm import OpenaiGpt35Turbo16kLlm, OpenaiGpt4Llm\n",
    "from ragna2.source_storage import ChromaSourceStorage\n",
    "from pprint import pprint\n",
    "\n",
    "source_storages = [ChromaSourceStorage]\n",
    "llms = [OpenaiGpt35Turbo16kLlm, OpenaiGpt4Llm]\n",
    "\n",
    "async def answer_prompt(source_storage, llm):\n",
    "    chat = await rag.start_new_chat(\n",
    "        documents=[document_path], \n",
    "        source_storage=source_storage, \n",
    "        llm=llm,\n",
    "    )\n",
    "    return await chat.answer(prompt)\n",
    "\n",
    "experiments = {(source_storage.display_name(), llm.display_name()): answer_prompt(source_storage, llm)\n",
    "              for source_storage, llm in itertools.product(source_storages, llms)}\n",
    "\n",
    "results = dict(zip(experiments.keys(), await asyncio.gather(*experiments.values())))\n",
    "\n",
    "pprint(results)"
   ]
  },
  {
   "cell_type": "code",
   "execution_count": null,
   "id": "d125a99d-51c2-4008-b49b-0c648abdb9e0",
   "metadata": {},
   "outputs": [],
   "source": []
  }
 ],
 "metadata": {
  "kernelspec": {
   "display_name": "Python 3 (ipykernel)",
   "language": "python",
   "name": "python3"
  },
  "language_info": {
   "codemirror_mode": {
    "name": "ipython",
    "version": 3
   },
   "file_extension": ".py",
   "mimetype": "text/x-python",
   "name": "python",
   "nbconvert_exporter": "python",
   "pygments_lexer": "ipython3",
   "version": "3.9.17"
  }
 },
 "nbformat": 4,
 "nbformat_minor": 5
}
