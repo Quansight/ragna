{
 "cells": [
  {
   "cell_type": "code",
   "execution_count": 1,
   "id": "3d1b9f01-ae07-488e-b3d2-62d01ad828c9",
   "metadata": {},
   "outputs": [],
   "source": [
    "from dotenv import load_dotenv\n",
    "\n",
    "assert load_dotenv(\"../.env\")"
   ]
  },
  {
   "cell_type": "code",
   "execution_count": 2,
   "id": "a3e91c88-13ca-417e-8205-9ef3b16f0d7d",
   "metadata": {},
   "outputs": [
    {
     "data": {
      "text/plain": [
       "'0.1.dev17+gfcf7439'"
      ]
     },
     "execution_count": 2,
     "metadata": {},
     "output_type": "execute_result"
    }
   ],
   "source": [
    "import ragna\n",
    "\n",
    "ragna.__version__"
   ]
  },
  {
   "cell_type": "code",
   "execution_count": 3,
   "id": "5a3759a6-ffb0-47f7-be40-cf9d62fc67da",
   "metadata": {},
   "outputs": [
    {
     "data": {
      "text/plain": [
       "Config(local_cache_root=PosixPath('/home/philip/.cache/ragna'), state_database_url='sqlite:////home/philip/.cache/ragna/ragna.db', queue_database_url='redis://127.0.0.1:6379', registered_source_storage_classes={}, registered_llm_classes={})"
      ]
     },
     "execution_count": 3,
     "metadata": {},
     "output_type": "execute_result"
    }
   ],
   "source": [
    "from ragna.core import Config\n",
    "\n",
    "config = Config()\n",
    "config"
   ]
  },
  {
   "cell_type": "code",
   "execution_count": 4,
   "id": "87613cac-44ba-4b85-ad3e-a1127dd65aa5",
   "metadata": {},
   "outputs": [],
   "source": [
    "document_path = \"demo_document.txt\"\n",
    "\n",
    "with open(document_path, \"w\") as file:\n",
    "    file.write(\"Ragna is an open-source RAG orchestration app\\n\")"
   ]
  },
  {
   "cell_type": "code",
   "execution_count": 5,
   "id": "818ff37c-d693-44b2-9d56-104eb2d86f59",
   "metadata": {},
   "outputs": [
    {
     "name": "stdout",
     "output_type": "stream",
     "text": [
      "20:22:34 Worker rq:worker:6f9db5f2392d4a8c9fd2684966f53ea5 started with PID 47562, version 1.15.1\n",
      "20:22:34 Subscribing to channel rq:pubsub:6f9db5f2392d4a8c9fd2684966f53ea5\n",
      "20:22:34 *** Listening on default...\n",
      "20:22:34 Cleaning registries for queue: default\n",
      "{\"event\": \"No registered components available\", \"timestamp\": \"2023-09-11T18:22:36.697954Z\", \"level\": \"warning\", \"pathname\": \"/home/philip/git/ora/ragna/core/_rag.py\", \"lineno\": 98}\n",
      "{\"event\": \"No registered components available\", \"timestamp\": \"2023-09-11T18:22:36.777673Z\", \"level\": \"warning\", \"pathname\": \"/home/philip/git/ora/ragna/core/_rag.py\", \"lineno\": 98}\n",
      "20:22:36 default: ragna.core._queue.Worker._execute_job(b\"\\x80\\x05\\x95\\t\\x0b\\x00\\x00\\x00\\x00\\x00\\x00\\x8c\\x17cloudpickle.cloudpickle...) (dddafab3-d374-4b75-9ccd-74979180079d)\n",
      "20:22:36 default: Job OK (dddafab3-d374-4b75-9ccd-74979180079d)\n",
      "20:22:36 Result is kept for 500 seconds\n",
      "20:22:37 default: ragna.core._queue.Worker._execute_job(b\"\\x80\\x05\\x95e\\n\\x00\\x00\\x00\\x00\\x00\\x00\\x8c\\x17cloudpickle.cloudpickle\\x9...) (a11d0f51-37b2-4420-b9ad-ba1ce34ddadb)\n",
      "20:22:37 default: Job OK (a11d0f51-37b2-4420-b9ad-ba1ce34ddadb)\n",
      "20:22:37 Result is kept for 500 seconds\n",
      "20:22:37 default: ragna.core._queue.Worker._execute_job(b\"\\x80\\x05\\x95\\xa3\\n\\x00\\x00\\x00\\x00\\x00\\x00\\x8c\\x17cloudpickle.cloudpickle...) (2cb399e9-ee08-4ee6-9872-0dfdcf321e4a)\n",
      "20:22:37 default: Job OK (2cb399e9-ee08-4ee6-9872-0dfdcf321e4a)\n",
      "20:22:37 Result is kept for 500 seconds\n"
     ]
    },
    {
     "data": {
      "text/plain": [
       "\"I'm just pretending to be an LLM, so I can't actually help with your prompt.\""
      ]
     },
     "execution_count": 5,
     "metadata": {},
     "output_type": "execute_result"
    }
   ],
   "source": [
    "from ragna.core import Rag\n",
    "from ragna.llm import RagnaDemoLlm\n",
    "from ragna.source_storage import RagnaDemoSourceStorage\n",
    "\n",
    "rag = Rag(config, start_ragna_worker=True)\n",
    "\n",
    "chat = await rag.start_new_chat(\n",
    "    documents=[document_path],\n",
    "    source_storage=RagnaDemoSourceStorage,\n",
    "    llm=RagnaDemoLlm,\n",
    ")\n",
    "\n",
    "prompt = \"What is Ragna?\"\n",
    "await chat.answer(prompt)"
   ]
  },
  {
   "cell_type": "code",
   "execution_count": 6,
   "id": "4c2f04c8-a0e1-47fc-a900-bc03b91088a2",
   "metadata": {},
   "outputs": [
    {
     "name": "stdout",
     "output_type": "stream",
     "text": [
      "{('Chroma', 'OpenAI/gpt-3.5-turbo-16k'): <coroutine object answer_prompt at 0x7f81e2d33c40>,\n",
      " ('Chroma', 'OpenAI/gpt-4'): <coroutine object answer_prompt at 0x7f81e2d33cc0>}\n"
     ]
    }
   ],
   "source": [
    "import itertools\n",
    "import asyncio\n",
    "from pprint import pprint\n",
    "\n",
    "from ragna.llm import OpenaiGpt35Turbo16kLlm, OpenaiGpt4Llm\n",
    "from ragna.source_storage import ChromaSourceStorage\n",
    "\n",
    "source_storages = [ChromaSourceStorage]\n",
    "llms = [OpenaiGpt35Turbo16kLlm, OpenaiGpt4Llm]\n",
    "\n",
    "\n",
    "async def answer_prompt(source_storage, llm):\n",
    "    chat = await rag.start_new_chat(\n",
    "        documents=[document_path],\n",
    "        source_storage=source_storage,\n",
    "        llm=llm,\n",
    "    )\n",
    "    return await chat.answer(prompt)\n",
    "\n",
    "\n",
    "experiments = {\n",
    "    (source_storage.display_name(), llm.display_name()): answer_prompt(\n",
    "        source_storage, llm\n",
    "    )\n",
    "    for source_storage, llm in itertools.product(source_storages, llms)\n",
    "}\n",
    "\n",
    "pprint(experiments)"
   ]
  },
  {
   "cell_type": "code",
   "execution_count": 7,
   "id": "d125a99d-51c2-4008-b49b-0c648abdb9e0",
   "metadata": {},
   "outputs": [
    {
     "name": "stdout",
     "output_type": "stream",
     "text": [
      "20:22:38 default: ragna.core._queue.Worker._execute_job(b\"\\x80\\x05\\x95\\xe8\\n\\x00\\x00\\x00\\x00\\x00\\x00\\x8c\\x17cloudpickle.cloudpickle...) (ff34f99d-6795-44c3-ba9a-cc435ac94610)\n",
      "20:22:38 default: Job OK (ff34f99d-6795-44c3-ba9a-cc435ac94610)\n",
      "20:22:38 Result is kept for 500 seconds\n",
      "20:22:38 default: ragna.core._queue.Worker._execute_job(b\"\\x80\\x05\\x95\\xe8\\n\\x00\\x00\\x00\\x00\\x00\\x00\\x8c\\x17cloudpickle.cloudpickle...) (07ce88b5-73b3-47dc-bac4-6134e000a6ed)\n",
      "20:22:39 default: Job OK (07ce88b5-73b3-47dc-bac4-6134e000a6ed)\n",
      "20:22:39 Result is kept for 500 seconds\n",
      "20:22:39 default: ragna.core._queue.Worker._execute_job(b\"\\x80\\x05\\x95B\\n\\x00\\x00\\x00\\x00\\x00\\x00\\x8c\\x17cloudpickle.cloudpickle\\x9...) (4f534fde-3a2d-4942-be0f-8eab2fa10b7a)\n",
      "20:22:39 default: Job OK (4f534fde-3a2d-4942-be0f-8eab2fa10b7a)\n",
      "20:22:39 Result is kept for 500 seconds\n",
      "20:22:39 default: ragna.core._queue.Worker._execute_job(b\"\\x80\\x05\\x95B\\n\\x00\\x00\\x00\\x00\\x00\\x00\\x8c\\x17cloudpickle.cloudpickle\\x9...) (a438f35a-3cfa-4e9a-ac3a-6457930d4d31)\n",
      "20:22:39 default: Job OK (a438f35a-3cfa-4e9a-ac3a-6457930d4d31)\n",
      "20:22:39 Result is kept for 500 seconds\n",
      "20:22:39 default: ragna.core._queue.Worker._execute_job(b\"\\x80\\x05\\x95.\\x0b\\x00\\x00\\x00\\x00\\x00\\x00\\x8c\\x17cloudpickle.cloudpickle\\...) (e317ac72-54b9-4953-89e1-5288cf7fca45)\n",
      "20:22:42 default: Job OK (e317ac72-54b9-4953-89e1-5288cf7fca45)\n",
      "20:22:42 Result is kept for 500 seconds\n",
      "20:22:42 default: ragna.core._queue.Worker._execute_job(b\"\\x80\\x05\\x95\\x19\\x0b\\x00\\x00\\x00\\x00\\x00\\x00\\x8c\\x17cloudpickle.cloudpick...) (c0b3083e-54fb-4600-8843-005076d1c823)\n",
      "20:22:47 default: Job OK (c0b3083e-54fb-4600-8843-005076d1c823)\n",
      "20:22:47 Result is kept for 500 seconds\n",
      "{('Chroma', 'OpenAI/gpt-3.5-turbo-16k'): 'Ragna is an open-source RAG '\n",
      "                                         'orchestration app. It is designed to '\n",
      "                                         'help users manage and automate their '\n",
      "                                         'RAG (Red, Amber, Green) status '\n",
      "                                         'reporting process. Ragna allows '\n",
      "                                         'users to easily track and update the '\n",
      "                                         'status of various tasks or projects, '\n",
      "                                         'and provides a visual representation '\n",
      "                                         'of the overall progress. It is a '\n",
      "                                         'useful tool for teams or individuals '\n",
      "                                         'who need to regularly report on the '\n",
      "                                         'status of their work.',\n",
      " ('Chroma', 'OpenAI/gpt-4'): 'Ragna is an open-source RAG (Retrieve and '\n",
      "                             \"Generate) orchestration app. It's a tool that \"\n",
      "                             'helps in managing and orchestrating the process '\n",
      "                             'of retrieving and generating data. Being '\n",
      "                             'open-source, it allows developers to modify and '\n",
      "                             'distribute the software to cater to their needs.'}\n"
     ]
    }
   ],
   "source": [
    "results = dict(zip(experiments.keys(), await asyncio.gather(*experiments.values())))\n",
    "\n",
    "pprint(results)"
   ]
  }
 ],
 "metadata": {
  "kernelspec": {
   "display_name": "Python 3 (ipykernel)",
   "language": "python",
   "name": "python3"
  },
  "language_info": {
   "codemirror_mode": {
    "name": "ipython",
    "version": 3
   },
   "file_extension": ".py",
   "mimetype": "text/x-python",
   "name": "python",
   "nbconvert_exporter": "python",
   "pygments_lexer": "ipython3",
   "version": "3.9.17"
  }
 },
 "nbformat": 4,
 "nbformat_minor": 5
}
