{
 "cells": [
  {
   "cell_type": "code",
   "execution_count": 1,
   "metadata": {},
   "outputs": [],
   "source": [
    "from dotenv import load_dotenv\n",
    "\n",
    "load_dotenv()"
   ]
  },
  {
   "cell_type": "code",
   "execution_count": 2,
   "metadata": {},
   "outputs": [],
   "source": [
    "from ragna import Rag, assistants, source_storages\n",
    "\n",
    "rag = Rag()"
   ]
  },
  {
   "cell_type": "code",
   "execution_count": 3,
   "metadata": {},
   "outputs": [],
   "source": [
    "from ragna.core import filesystem_glob\n",
    "\n",
    "globs = filesystem_glob(\"github://nenb/Notes/programming/ADR/**.txt\")\n",
    "# ugly, but it works for now\n",
    "documents = [\"github://nenb/Notes/\" + glob for glob in globs]\n",
    "\n",
    "chat = rag.chat(\n",
    "    documents=documents,\n",
    "    source_storage=source_storages.LanceDB,\n",
    "    assistant=assistants.Gpt35Turbo16k,\n",
    ")"
   ]
  },
  {
   "cell_type": "code",
   "execution_count": 4,
   "metadata": {},
   "outputs": [
    {
     "data": {
      "text/plain": [
       "Message(content='How can I help you with the documents?', role=<MessageRole.SYSTEM: 'system'>, sources=[])"
      ]
     },
     "execution_count": 4,
     "metadata": {},
     "output_type": "execute_result"
    }
   ],
   "source": [
    "await chat.prepare()"
   ]
  },
  {
   "cell_type": "code",
   "execution_count": 5,
   "metadata": {},
   "outputs": [
    {
     "name": "stdout",
     "output_type": "stream",
     "text": [
      "SQS was chosen for task queues due to several factors. One of the deciding factors was the simplicity of the client interface, including the built-in support for Dead Letter Queues. Additionally, SQS can be easily replicated across regions if necessary in the future. Another consideration was the cost-effectiveness of using SQS compared to other options like Kafka, especially when replicated across regions. Overall, SQS provided a simple and reliable solution for managing task queues in the system.\n"
     ]
    }
   ],
   "source": [
    "print(await chat.answer(\"Why was SQS chosen for task queues?\"))"
   ]
  },
  {
   "cell_type": "code",
   "execution_count": null,
   "metadata": {},
   "outputs": [],
   "source": []
  }
 ],
 "metadata": {
  "kernelspec": {
   "display_name": "ragna-dev",
   "language": "python",
   "name": "ragna-dev"
  },
  "language_info": {
   "codemirror_mode": {
    "name": "ipython",
    "version": 3
   },
   "file_extension": ".py",
   "mimetype": "text/x-python",
   "name": "python",
   "nbconvert_exporter": "python",
   "pygments_lexer": "ipython3",
   "version": "3.9.18"
  }
 },
 "nbformat": 4,
 "nbformat_minor": 2
}
