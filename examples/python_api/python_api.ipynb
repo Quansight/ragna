{
 "cells": [
  {
   "cell_type": "code",
   "execution_count": 1,
   "id": "3d1b9f01-ae07-488e-b3d2-62d01ad828c9",
   "metadata": {},
   "outputs": [],
   "source": [
    "from dotenv import load_dotenv\n",
    "\n",
    "assert load_dotenv(\"../../.env\")"
   ]
  },
  {
   "cell_type": "code",
   "execution_count": 2,
   "id": "a3e91c88-13ca-417e-8205-9ef3b16f0d7d",
   "metadata": {},
   "outputs": [
    {
     "data": {
      "text/plain": [
       "'0.1.dev57+g0e9c075.d20231025200357'"
      ]
     },
     "execution_count": 2,
     "metadata": {},
     "output_type": "execute_result"
    }
   ],
   "source": [
    "import ragna\n",
    "\n",
    "ragna.__version__"
   ]
  },
  {
   "cell_type": "code",
   "execution_count": 3,
   "id": "5a3759a6-ffb0-47f7-be40-cf9d62fc67da",
   "metadata": {},
   "outputs": [
    {
     "data": {
      "text/plain": [
       "Config(local_cache_root=PosixPath('/home/philip/.cache/ragna'), core=CoreConfig(queue_url='memory', document=<class 'ragna.core.LocalDocument'>, source_storages=[<class 'ragna.source_storages.RagnaDemoSourceStorage'>], assistants=[<class 'ragna.assistants.RagnaDemoAssistant'>]), api=ApiConfig(url='http://127.0.0.1:31476', database_url='memory', authentication=<class 'ragna.core.RagnaDemoAuthentication'>, upload_token_secret='thiZLJBgUNrJyJ150sfWrEFSkn8SR-jH', upload_token_ttl=300), ui=UiConfig(url='http://127.0.0.1:31477'))"
      ]
     },
     "execution_count": 3,
     "metadata": {},
     "output_type": "execute_result"
    }
   ],
   "source": [
    "from ragna import Config\n",
    "\n",
    "config = Config()\n",
    "config"
   ]
  },
  {
   "cell_type": "code",
   "execution_count": 4,
   "id": "87613cac-44ba-4b85-ad3e-a1127dd65aa5",
   "metadata": {},
   "outputs": [],
   "source": [
    "document_path = \"demo_document.txt\"\n",
    "\n",
    "with open(document_path, \"w\") as file:\n",
    "    file.write(\"Ragna is an open-source RAG orchestration app\\n\")"
   ]
  },
  {
   "cell_type": "code",
   "execution_count": 5,
   "id": "818ff37c-d693-44b2-9d56-104eb2d86f59",
   "metadata": {},
   "outputs": [
    {
     "name": "stdout",
     "output_type": "stream",
     "text": [
      "I can't really help you with your prompt:\n",
      "\n",
      "> What is Ragna?\n",
      "\n",
      "I can at least show you the sources that I was given:\n",
      "\n",
      "- demo_document.txt: Ragna is an open-source RAG orchestration app\n"
     ]
    }
   ],
   "source": [
    "from ragna.assistants import RagnaDemoAssistant\n",
    "from ragna.core import Rag\n",
    "from ragna.source_storages import RagnaDemoSourceStorage\n",
    "\n",
    "rag = Rag(config)\n",
    "\n",
    "async with rag.chat(\n",
    "    documents=[document_path],\n",
    "    source_storage=RagnaDemoSourceStorage,\n",
    "    assistant=RagnaDemoAssistant,\n",
    ") as chat:\n",
    "    prompt = \"What is Ragna?\"\n",
    "    answer = await chat.answer(prompt)\n",
    "\n",
    "print(answer)"
   ]
  },
  {
   "cell_type": "code",
   "execution_count": 6,
   "id": "4c2f04c8-a0e1-47fc-a900-bc03b91088a2",
   "metadata": {},
   "outputs": [
    {
     "name": "stdout",
     "output_type": "stream",
     "text": [
      "{('Chroma', 'Anthropic/claude-2'): <coroutine object answer_prompt at 0x7f850cb4b6c0>,\n",
      " ('Chroma', 'Anthropic/claude-instant-1'): <coroutine object answer_prompt at 0x7f850cb4b640>,\n",
      " ('Chroma', 'MosaicML/mpt-30b-instruct'): <coroutine object answer_prompt at 0x7f850cb4b7c0>,\n",
      " ('Chroma', 'MosaicML/mpt-7b-instruct'): <coroutine object answer_prompt at 0x7f850cb4b740>,\n",
      " ('Chroma', 'OpenAI/gpt-3.5-turbo-16k'): <coroutine object answer_prompt at 0x7f850cb4b0c0>,\n",
      " ('Chroma', 'OpenAI/gpt-4'): <coroutine object answer_prompt at 0x7f850cb4b5c0>,\n",
      " ('LanceDB', 'Anthropic/claude-2'): <coroutine object answer_prompt at 0x7f850cb4b9c0>,\n",
      " ('LanceDB', 'Anthropic/claude-instant-1'): <coroutine object answer_prompt at 0x7f850cb4b940>,\n",
      " ('LanceDB', 'MosaicML/mpt-30b-instruct'): <coroutine object answer_prompt at 0x7f850cb4bac0>,\n",
      " ('LanceDB', 'MosaicML/mpt-7b-instruct'): <coroutine object answer_prompt at 0x7f850cb4ba40>,\n",
      " ('LanceDB', 'OpenAI/gpt-3.5-turbo-16k'): <coroutine object answer_prompt at 0x7f850cb4b840>,\n",
      " ('LanceDB', 'OpenAI/gpt-4'): <coroutine object answer_prompt at 0x7f850cb4b8c0>}\n"
     ]
    }
   ],
   "source": [
    "import asyncio\n",
    "import itertools\n",
    "from pprint import pprint\n",
    "\n",
    "from ragna.assistants import (\n",
    "    Claude,\n",
    "    ClaudeInstant,\n",
    "    Gpt4,\n",
    "    Gpt35Turbo16k,\n",
    "    Mpt7bInstruct,\n",
    "    Mpt30bInstruct,\n",
    ")\n",
    "from ragna.source_storages import Chroma, LanceDB\n",
    "\n",
    "source_storages = [Chroma, LanceDB]\n",
    "assistants = [\n",
    "    Gpt35Turbo16k,\n",
    "    Gpt4,\n",
    "    ClaudeInstant,\n",
    "    Claude,\n",
    "    Mpt7bInstruct,\n",
    "    Mpt30bInstruct,\n",
    "]\n",
    "\n",
    "\n",
    "async def answer_prompt(source_storage, assistant):\n",
    "    async with rag.chat(\n",
    "        documents=[document_path],\n",
    "        source_storage=source_storage,\n",
    "        assistant=assistant,\n",
    "    ) as chat:\n",
    "        message = await chat.answer(prompt)\n",
    "        return message.content\n",
    "\n",
    "\n",
    "experiments = {\n",
    "    (source_storage.display_name(), assistant.display_name()): answer_prompt(\n",
    "        source_storage, assistant\n",
    "    )\n",
    "    for source_storage, assistant in itertools.product(source_storages, assistants)\n",
    "}\n",
    "\n",
    "pprint(experiments)"
   ]
  },
  {
   "cell_type": "code",
   "execution_count": 7,
   "id": "d125a99d-51c2-4008-b49b-0c648abdb9e0",
   "metadata": {},
   "outputs": [
    {
     "name": "stdout",
     "output_type": "stream",
     "text": [
      "{('Chroma', 'Anthropic/claude-2'): ' Based on the context provided, Ragna is '\n",
      "                                   'an open-source RAG orchestration app.',\n",
      " ('Chroma', 'Anthropic/claude-instant-1'): ' Based on the context provided, '\n",
      "                                           'Ragna is an open-source RAG '\n",
      "                                           'orchestration app.',\n",
      " ('Chroma', 'MosaicML/mpt-30b-instruct'): 'Ragna is an open-source RAG '\n",
      "                                          'orchestration app',\n",
      " ('Chroma', 'MosaicML/mpt-7b-instruct'): 'Ragna is an open-source RAG '\n",
      "                                         'orchestration app',\n",
      " ('Chroma', 'OpenAI/gpt-3.5-turbo-16k'): 'Ragna is an open-source RAG '\n",
      "                                         '(Retrieve, Ask, Generate) '\n",
      "                                         'orchestration app. It is designed to '\n",
      "                                         'facilitate the creation and '\n",
      "                                         'deployment of conversational AI '\n",
      "                                         'models. Ragna allows users to '\n",
      "                                         'retrieve information from various '\n",
      "                                         'sources, ask questions to clarify '\n",
      "                                         'user queries, and generate responses '\n",
      "                                         'based on the retrieved information. '\n",
      "                                         'It is a powerful tool for building '\n",
      "                                         'interactive and dynamic '\n",
      "                                         'conversational agents.',\n",
      " ('Chroma', 'OpenAI/gpt-4'): 'Ragna is an open-source RAG orchestration app.',\n",
      " ('LanceDB', 'Anthropic/claude-2'): ' Based on the context provided, Ragna is '\n",
      "                                    'an open-source RAG orchestration app.',\n",
      " ('LanceDB', 'Anthropic/claude-instant-1'): ' Based on the context provided, '\n",
      "                                            'Ragna is an open-source RAG '\n",
      "                                            'orchestration app.',\n",
      " ('LanceDB', 'MosaicML/mpt-30b-instruct'): 'Ragna is an open-source RAG '\n",
      "                                           'orchestration app',\n",
      " ('LanceDB', 'MosaicML/mpt-7b-instruct'): 'Ragna is an open-source RAG '\n",
      "                                          'orchestration app',\n",
      " ('LanceDB', 'OpenAI/gpt-3.5-turbo-16k'): 'Ragna is an open-source RAG '\n",
      "                                          '(Retrieve, Ask, Generate) '\n",
      "                                          'orchestration app. It is designed '\n",
      "                                          'to facilitate the creation and '\n",
      "                                          'deployment of conversational AI '\n",
      "                                          'models. Ragna allows users to '\n",
      "                                          'retrieve information from various '\n",
      "                                          'sources, ask questions to clarify '\n",
      "                                          'user queries, and generate '\n",
      "                                          'responses based on the retrieved '\n",
      "                                          'information. It is a powerful tool '\n",
      "                                          'for building interactive and '\n",
      "                                          'dynamic conversational agents.',\n",
      " ('LanceDB', 'OpenAI/gpt-4'): 'Ragna is an open-source RAG orchestration app.'}\n"
     ]
    }
   ],
   "source": [
    "results = dict(zip(experiments.keys(), await asyncio.gather(*experiments.values())))\n",
    "pprint(results)"
   ]
  }
 ],
 "metadata": {
  "kernelspec": {
   "display_name": "Python 3 (ipykernel)",
   "language": "python",
   "name": "python3"
  },
  "language_info": {
   "codemirror_mode": {
    "name": "ipython",
    "version": 3
   },
   "file_extension": ".py",
   "mimetype": "text/x-python",
   "name": "python",
   "nbconvert_exporter": "python",
   "pygments_lexer": "ipython3",
   "version": "3.9.18"
  }
 },
 "nbformat": 4,
 "nbformat_minor": 5
}
