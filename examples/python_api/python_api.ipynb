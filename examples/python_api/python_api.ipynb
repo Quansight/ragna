{
 "cells": [
  {
   "cell_type": "code",
   "execution_count": 1,
   "id": "3d1b9f01-ae07-488e-b3d2-62d01ad828c9",
   "metadata": {},
   "outputs": [],
   "source": [
    "from dotenv import load_dotenv\n",
    "\n",
    "assert load_dotenv(\"../../.env\")"
   ]
  },
  {
   "cell_type": "code",
   "execution_count": 2,
   "id": "a3e91c88-13ca-417e-8205-9ef3b16f0d7d",
   "metadata": {},
   "outputs": [
    {
     "data": {
      "text/plain": [
       "'0.1.dev29+g03721c7.d20231009084220'"
      ]
     },
     "execution_count": 2,
     "metadata": {},
     "output_type": "execute_result"
    }
   ],
   "source": [
    "import ragna\n",
    "\n",
    "ragna.__version__"
   ]
  },
  {
   "cell_type": "code",
   "execution_count": 3,
   "id": "5a3759a6-ffb0-47f7-be40-cf9d62fc67da",
   "metadata": {},
   "outputs": [
    {
     "data": {
      "text/plain": [
       "Config(local_cache_root=PosixPath('/home/philip/.cache/ragna'), state_database_url='sqlite://', queue_database_url='memory', ragna_api_url='http://127.0.0.1:31476', ragna_ui_url='http://127.0.0.1:31477', document_class=<class 'ragna.core.LocalDocument'>, upload_token_secret='9709d3f424d472672ccb97882812d33c66ac30df3669cfbd299cc80996c96a17', upload_token_ttl=30, registered_source_storage_classes={'Ragna/DemoSourceStorage': <class 'ragna.source_storage._demo.RagnaDemoSourceStorage'>}, registered_assistant_classes={'Ragna/DemoAssistant': <class 'ragna.assistant._demo.RagnaDemoAssistant'>})"
      ]
     },
     "execution_count": 3,
     "metadata": {},
     "output_type": "execute_result"
    }
   ],
   "source": [
    "from ragna import demo_config, Config\n",
    "\n",
    "demo_config"
   ]
  },
  {
   "cell_type": "code",
   "execution_count": 4,
   "id": "87613cac-44ba-4b85-ad3e-a1127dd65aa5",
   "metadata": {},
   "outputs": [],
   "source": [
    "document_path = \"demo_document.txt\"\n",
    "\n",
    "with open(document_path, \"w\") as file:\n",
    "    file.write(\"Ragna is an open-source RAG orchestration app\\n\")"
   ]
  },
  {
   "cell_type": "code",
   "execution_count": 5,
   "id": "818ff37c-d693-44b2-9d56-104eb2d86f59",
   "metadata": {},
   "outputs": [
    {
     "name": "stdout",
     "output_type": "stream",
     "text": [
      "I can't really help you with your prompt:\n",
      "\n",
      "> What is Ragna?\n",
      "\n",
      "I can at least show you the sources that I was given:\n",
      "\n",
      "- demo_document.txt: Ragna is an open-source RAG orchestration app\n"
     ]
    }
   ],
   "source": [
    "from ragna.core import Rag\n",
    "from ragna.assistant import (\n",
    "    RagnaDemoAssistant,\n",
    "    OpenaiGpt35Turbo16kAssistant,\n",
    "    OpenaiGpt4Assistant,\n",
    ")\n",
    "from ragna.source_storage import (\n",
    "    ChromaSourceStorage,\n",
    "    RagnaDemoSourceStorage,\n",
    "    LanceDBSourceStorage,\n",
    ")\n",
    "\n",
    "rag = Rag(demo_config)\n",
    "\n",
    "async with rag.chat(\n",
    "    documents=[document_path],\n",
    "    source_storage=RagnaDemoSourceStorage,\n",
    "    assistant=RagnaDemoAssistant,\n",
    ") as chat:\n",
    "    prompt = \"What is Ragna?\"\n",
    "    answer = await chat.answer(prompt)\n",
    "\n",
    "print(answer)"
   ]
  },
  {
   "cell_type": "code",
   "execution_count": 6,
   "id": "4c2f04c8-a0e1-47fc-a900-bc03b91088a2",
   "metadata": {},
   "outputs": [
    {
     "name": "stdout",
     "output_type": "stream",
     "text": [
      "{('Chroma', 'OpenAI/gpt-3.5-turbo-16k'): <coroutine object answer_prompt at 0x7f61babd4b40>,\n",
      " ('Chroma', 'OpenAI/gpt-4'): <coroutine object answer_prompt at 0x7f61babd4bc0>,\n",
      " ('LanceDB', 'OpenAI/gpt-3.5-turbo-16k'): <coroutine object answer_prompt at 0x7f61babd4c40>,\n",
      " ('LanceDB', 'OpenAI/gpt-4'): <coroutine object answer_prompt at 0x7f61babd4cc0>}\n"
     ]
    }
   ],
   "source": [
    "import itertools\n",
    "import asyncio\n",
    "from pprint import pprint\n",
    "\n",
    "source_storages = [ChromaSourceStorage, LanceDBSourceStorage]\n",
    "assistants = [OpenaiGpt35Turbo16kAssistant, OpenaiGpt4Assistant]\n",
    "\n",
    "\n",
    "async def answer_prompt(source_storage, assistant):\n",
    "    async with rag.chat(\n",
    "        documents=[document_path],\n",
    "        source_storage=source_storage,\n",
    "        assistant=assistant,\n",
    "    ) as chat:\n",
    "        return await chat.answer(prompt)\n",
    "\n",
    "\n",
    "experiments = {\n",
    "    (source_storage.display_name(), assistant.display_name()): answer_prompt(\n",
    "        source_storage, assistant\n",
    "    )\n",
    "    for source_storage, assistant in itertools.product(source_storages, assistants)\n",
    "}\n",
    "\n",
    "pprint(experiments)"
   ]
  },
  {
   "cell_type": "code",
   "execution_count": 7,
   "id": "d125a99d-51c2-4008-b49b-0c648abdb9e0",
   "metadata": {},
   "outputs": [
    {
     "name": "stdout",
     "output_type": "stream",
     "text": [
      "huggingface/tokenizers: The current process just got forked, after parallelism has already been used. Disabling parallelism to avoid deadlocks...\n",
      "To disable this warning, you can either:\n",
      "\t- Avoid using `tokenizers` before the fork if possible\n",
      "\t- Explicitly set the environment variable TOKENIZERS_PARALLELISM=(true | false)\n"
     ]
    },
    {
     "name": "stderr",
     "output_type": "stream",
     "text": [
      "Unhandled exception in task 1907504c-778f-479c-a660-5eb1d9084404.\n",
      "Traceback (most recent call last):\n",
      "  File \"/home/philip/.conda/envs/ragna-dev/lib/python3.9/site-packages/huey/api.py\", line 382, in _execute\n",
      "    task_value = task.execute()\n",
      "  File \"/home/philip/git/ora/ragna/core/_queue.py\", line 34, in execute\n",
      "    return execute(*self.args)\n",
      "  File \"/home/philip/git/ora/ragna/core/_queue.py\", line 29, in execute\n",
      "    return fn(self, *args, **kwargs)\n",
      "  File \"/home/philip/git/ora/ragna/source_storage/_lancedb.py\", line 94, in retrieve\n",
      "    return list(\n",
      "  File \"/home/philip/git/ora/ragna/utils/_misc.py\", line 39, in take_sources_up_to_max_tokens\n",
      "    for source in sources:\n",
      "  File \"/home/philip/git/ora/ragna/source_storage/_lancedb.py\", line 97, in <genexpr>\n",
      "    Source(\n",
      "  File \"pydantic/main.py\", line 341, in pydantic.main.BaseModel.__init__\n",
      "pydantic.error_wrappers.ValidationError: 1 validation error for Source\n",
      "location\n",
      "  none is not an allowed value (type=type_error.none.not_allowed)\n",
      "Unhandled exception in task 239e08e9-8876-4388-83aa-8e3d146a292d.\n",
      "Traceback (most recent call last):\n",
      "  File \"/home/philip/.conda/envs/ragna-dev/lib/python3.9/site-packages/huey/api.py\", line 382, in _execute\n",
      "    task_value = task.execute()\n",
      "  File \"/home/philip/git/ora/ragna/core/_queue.py\", line 34, in execute\n",
      "    return execute(*self.args)\n",
      "  File \"/home/philip/git/ora/ragna/core/_queue.py\", line 29, in execute\n",
      "    return fn(self, *args, **kwargs)\n",
      "  File \"/home/philip/git/ora/ragna/source_storage/_lancedb.py\", line 94, in retrieve\n",
      "    return list(\n",
      "  File \"/home/philip/git/ora/ragna/utils/_misc.py\", line 39, in take_sources_up_to_max_tokens\n",
      "    for source in sources:\n",
      "  File \"/home/philip/git/ora/ragna/source_storage/_lancedb.py\", line 97, in <genexpr>\n",
      "    Source(\n",
      "  File \"pydantic/main.py\", line 341, in pydantic.main.BaseModel.__init__\n",
      "pydantic.error_wrappers.ValidationError: 1 validation error for Source\n",
      "location\n",
      "  none is not an allowed value (type=type_error.none.not_allowed)\n"
     ]
    },
    {
     "ename": "RagnaException",
     "evalue": "Task failed, error=ValidationError(model='Source', errors=[{'loc': ('location',), 'msg': 'none is not an allowed value', 'type': 'type_error.none.not_allowed'}]), retries=0, traceback=NoneType: None\n, task_id=1907504c-778f-479c-a660-5eb1d9084404, component=LanceDB, action=retrieve",
     "output_type": "error",
     "traceback": [
      "\u001b[0;31m---------------------------------------------------------------------------\u001b[0m",
      "\u001b[0;31mRagnaException\u001b[0m                            Traceback (most recent call last)",
      "Cell \u001b[0;32mIn[7], line 1\u001b[0m\n\u001b[0;32m----> 1\u001b[0m results \u001b[38;5;241m=\u001b[39m \u001b[38;5;28mdict\u001b[39m(\u001b[38;5;28mzip\u001b[39m(experiments\u001b[38;5;241m.\u001b[39mkeys(), \u001b[38;5;28;01mawait\u001b[39;00m asyncio\u001b[38;5;241m.\u001b[39mgather(\u001b[38;5;241m*\u001b[39mexperiments\u001b[38;5;241m.\u001b[39mvalues())))\n\u001b[1;32m      2\u001b[0m pprint(results)\n",
      "Cell \u001b[0;32mIn[6], line 15\u001b[0m, in \u001b[0;36manswer_prompt\u001b[0;34m(source_storage, assistant)\u001b[0m\n\u001b[1;32m      9\u001b[0m \u001b[38;5;28;01masync\u001b[39;00m \u001b[38;5;28;01mdef\u001b[39;00m \u001b[38;5;21manswer_prompt\u001b[39m(source_storage, assistant):\n\u001b[1;32m     10\u001b[0m     \u001b[38;5;28;01masync\u001b[39;00m \u001b[38;5;28;01mwith\u001b[39;00m rag\u001b[38;5;241m.\u001b[39mchat(\n\u001b[1;32m     11\u001b[0m         documents\u001b[38;5;241m=\u001b[39m[document_path],\n\u001b[1;32m     12\u001b[0m         source_storage\u001b[38;5;241m=\u001b[39msource_storage,\n\u001b[1;32m     13\u001b[0m         assistant\u001b[38;5;241m=\u001b[39massistant,\n\u001b[1;32m     14\u001b[0m     ) \u001b[38;5;28;01mas\u001b[39;00m chat:\n\u001b[0;32m---> 15\u001b[0m         \u001b[38;5;28;01mreturn\u001b[39;00m \u001b[38;5;28;01mawait\u001b[39;00m chat\u001b[38;5;241m.\u001b[39manswer(prompt)\n",
      "File \u001b[0;32m~/git/ora/ragna/core/_rag.py:109\u001b[0m, in \u001b[0;36mChat.answer\u001b[0;34m(self, prompt)\u001b[0m\n\u001b[1;32m    106\u001b[0m prompt \u001b[38;5;241m=\u001b[39m Message(content\u001b[38;5;241m=\u001b[39mprompt, role\u001b[38;5;241m=\u001b[39mMessageRole\u001b[38;5;241m.\u001b[39mUSER)\n\u001b[1;32m    107\u001b[0m \u001b[38;5;28mself\u001b[39m\u001b[38;5;241m.\u001b[39m_messages\u001b[38;5;241m.\u001b[39mappend(prompt)\n\u001b[0;32m--> 109\u001b[0m sources \u001b[38;5;241m=\u001b[39m \u001b[38;5;28;01mawait\u001b[39;00m \u001b[38;5;28mself\u001b[39m\u001b[38;5;241m.\u001b[39m_enqueue(\u001b[38;5;28mself\u001b[39m\u001b[38;5;241m.\u001b[39msource_storage, \u001b[38;5;124m\"\u001b[39m\u001b[38;5;124mretrieve\u001b[39m\u001b[38;5;124m\"\u001b[39m, prompt\u001b[38;5;241m.\u001b[39mcontent)\n\u001b[1;32m    110\u001b[0m content \u001b[38;5;241m=\u001b[39m \u001b[38;5;28;01mawait\u001b[39;00m \u001b[38;5;28mself\u001b[39m\u001b[38;5;241m.\u001b[39m_enqueue(\u001b[38;5;28mself\u001b[39m\u001b[38;5;241m.\u001b[39massistant, \u001b[38;5;124m\"\u001b[39m\u001b[38;5;124manswer\u001b[39m\u001b[38;5;124m\"\u001b[39m, prompt\u001b[38;5;241m.\u001b[39mcontent, sources)\n\u001b[1;32m    112\u001b[0m answer \u001b[38;5;241m=\u001b[39m Message(\n\u001b[1;32m    113\u001b[0m     content\u001b[38;5;241m=\u001b[39mcontent,\n\u001b[1;32m    114\u001b[0m     role\u001b[38;5;241m=\u001b[39mMessageRole\u001b[38;5;241m.\u001b[39mASSISTANT,\n\u001b[1;32m    115\u001b[0m     sources\u001b[38;5;241m=\u001b[39msources,\n\u001b[1;32m    116\u001b[0m )\n",
      "File \u001b[0;32m~/git/ora/ragna/core/_rag.py:193\u001b[0m, in \u001b[0;36mChat._enqueue\u001b[0;34m(self, component, action, *args)\u001b[0m\n\u001b[1;32m    191\u001b[0m exc\u001b[38;5;241m.\u001b[39mextra[\u001b[38;5;124m\"\u001b[39m\u001b[38;5;124mcomponent\u001b[39m\u001b[38;5;124m\"\u001b[39m] \u001b[38;5;241m=\u001b[39m component\u001b[38;5;241m.\u001b[39mdisplay_name()\n\u001b[1;32m    192\u001b[0m exc\u001b[38;5;241m.\u001b[39mextra[\u001b[38;5;124m\"\u001b[39m\u001b[38;5;124maction\u001b[39m\u001b[38;5;124m\"\u001b[39m] \u001b[38;5;241m=\u001b[39m action\n\u001b[0;32m--> 193\u001b[0m \u001b[38;5;28;01mraise\u001b[39;00m exc\n",
      "File \u001b[0;32m~/git/ora/ragna/core/_rag.py:187\u001b[0m, in \u001b[0;36mChat._enqueue\u001b[0;34m(self, component, action, *args)\u001b[0m\n\u001b[1;32m    185\u001b[0m \u001b[38;5;28;01masync\u001b[39;00m \u001b[38;5;28;01mdef\u001b[39;00m \u001b[38;5;21m_enqueue\u001b[39m(\u001b[38;5;28mself\u001b[39m, component, action, \u001b[38;5;241m*\u001b[39margs):\n\u001b[1;32m    186\u001b[0m     \u001b[38;5;28;01mtry\u001b[39;00m:\n\u001b[0;32m--> 187\u001b[0m         \u001b[38;5;28;01mreturn\u001b[39;00m \u001b[38;5;28;01mawait\u001b[39;00m \u001b[38;5;28mself\u001b[39m\u001b[38;5;241m.\u001b[39m_rag\u001b[38;5;241m.\u001b[39m_queue\u001b[38;5;241m.\u001b[39menqueue(\n\u001b[1;32m    188\u001b[0m             component, action, args, \u001b[38;5;28mself\u001b[39m\u001b[38;5;241m.\u001b[39m_unpacked_params[(component, action)]\n\u001b[1;32m    189\u001b[0m         )\n\u001b[1;32m    190\u001b[0m     \u001b[38;5;28;01mexcept\u001b[39;00m RagnaException \u001b[38;5;28;01mas\u001b[39;00m exc:\n\u001b[1;32m    191\u001b[0m         exc\u001b[38;5;241m.\u001b[39mextra[\u001b[38;5;124m\"\u001b[39m\u001b[38;5;124mcomponent\u001b[39m\u001b[38;5;124m\"\u001b[39m] \u001b[38;5;241m=\u001b[39m component\u001b[38;5;241m.\u001b[39mdisplay_name()\n",
      "File \u001b[0;32m~/git/ora/ragna/core/_queue.py:131\u001b[0m, in \u001b[0;36mQueue.enqueue\u001b[0;34m(self, component, action, args, kwargs)\u001b[0m\n\u001b[1;32m    129\u001b[0m output \u001b[38;5;241m=\u001b[39m \u001b[38;5;28;01mawait\u001b[39;00m aget_result(result)\n\u001b[1;32m    130\u001b[0m \u001b[38;5;28;01mif\u001b[39;00m \u001b[38;5;28misinstance\u001b[39m(output, huey\u001b[38;5;241m.\u001b[39mutils\u001b[38;5;241m.\u001b[39mError):\n\u001b[0;32m--> 131\u001b[0m     \u001b[38;5;28;01mraise\u001b[39;00m RagnaException(\u001b[38;5;124m\"\u001b[39m\u001b[38;5;124mTask failed\u001b[39m\u001b[38;5;124m\"\u001b[39m, \u001b[38;5;241m*\u001b[39m\u001b[38;5;241m*\u001b[39moutput\u001b[38;5;241m.\u001b[39mmetadata)\n\u001b[1;32m    132\u001b[0m \u001b[38;5;28;01mreturn\u001b[39;00m output\n",
      "\u001b[0;31mRagnaException\u001b[0m: Task failed, error=ValidationError(model='Source', errors=[{'loc': ('location',), 'msg': 'none is not an allowed value', 'type': 'type_error.none.not_allowed'}]), retries=0, traceback=NoneType: None\n, task_id=1907504c-778f-479c-a660-5eb1d9084404, component=LanceDB, action=retrieve"
     ]
    }
   ],
   "source": [
    "results = dict(zip(experiments.keys(), await asyncio.gather(*experiments.values())))\n",
    "pprint(results)"
   ]
  }
 ],
 "metadata": {
  "kernelspec": {
   "display_name": "Python 3 (ipykernel)",
   "language": "python",
   "name": "python3"
  },
  "language_info": {
   "codemirror_mode": {
    "name": "ipython",
    "version": 3
   },
   "file_extension": ".py",
   "mimetype": "text/x-python",
   "name": "python",
   "nbconvert_exporter": "python",
   "pygments_lexer": "ipython3",
   "version": "3.9.18"
  }
 },
 "nbformat": 4,
 "nbformat_minor": 5
}
