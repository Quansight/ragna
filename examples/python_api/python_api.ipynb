{
 "cells": [
  {
   "cell_type": "code",
   "execution_count": 1,
   "id": "3d1b9f01-ae07-488e-b3d2-62d01ad828c9",
   "metadata": {},
   "outputs": [],
   "source": [
    "from dotenv import load_dotenv\n",
    "\n",
    "assert load_dotenv(\"../../.env\")"
   ]
  },
  {
   "cell_type": "code",
   "execution_count": 2,
   "id": "a3e91c88-13ca-417e-8205-9ef3b16f0d7d",
   "metadata": {},
   "outputs": [
    {
     "name": "stderr",
     "output_type": "stream",
     "text": [
      "platform/c++/implementation/internal.cpp:205:reinit_singlethreaded(): Reinitialising as single-threaded.\n"
     ]
    },
    {
     "data": {
      "text/plain": [
       "'0.1.dev29+g03721c7.d20231009084220'"
      ]
     },
     "execution_count": 2,
     "metadata": {},
     "output_type": "execute_result"
    }
   ],
   "source": [
    "import ragna\n",
    "\n",
    "ragna.__version__"
   ]
  },
  {
   "cell_type": "code",
   "execution_count": 4,
   "id": "5a3759a6-ffb0-47f7-be40-cf9d62fc67da",
   "metadata": {},
   "outputs": [
    {
     "data": {
      "text/plain": [
       "Config(local_cache_root=PosixPath('~/.cache/ragna'), rag=RagConfig(database_url='memory', queue_url='memory', document=<class 'ragna.core.LocalDocument'>, source_storages=[<class 'ragna.source_storages.RagnaDemoSourceStorage'>], assistants=[<class 'ragna.assistants.RagnaDemoAssistant'>]), api=ApiConfig(url=Url('http://127.0.0.1:31476/'), upload_token_secret=SecretStr('**********'), upload_token_ttl=300), ui=UiConfig(url=Url('http://127.0.0.1:31476/')))"
      ]
     },
     "execution_count": 4,
     "metadata": {},
     "output_type": "execute_result"
    }
   ],
   "source": [
    "from ragna import Config\n",
    "\n",
    "config = Config()\n",
    "config"
   ]
  },
  {
   "cell_type": "code",
   "execution_count": 5,
   "id": "87613cac-44ba-4b85-ad3e-a1127dd65aa5",
   "metadata": {},
   "outputs": [],
   "source": [
    "document_path = \"demo_document.txt\"\n",
    "\n",
    "with open(document_path, \"w\") as file:\n",
    "    file.write(\"Ragna is an open-source RAG orchestration app\\n\")"
   ]
  },
  {
   "cell_type": "code",
   "execution_count": 10,
   "id": "818ff37c-d693-44b2-9d56-104eb2d86f59",
   "metadata": {},
   "outputs": [
    {
     "name": "stdout",
     "output_type": "stream",
     "text": [
      "I can't really help you with your prompt:\n",
      "\n",
      "> What is Ragna?\n",
      "\n",
      "I can at least show you the sources that I was given:\n",
      "\n",
      "- demo_document.txt: Ragna is an open-source RAG orchestration app\n"
     ]
    }
   ],
   "source": [
    "from ragna.assistants import Gpt4, Gpt35Turbo16k, RagnaDemoAssistant\n",
    "from ragna.core import Rag\n",
    "from ragna.source_storages import Chroma, LanceDB, RagnaDemoSourceStorage\n",
    "\n",
    "rag = Rag(config)\n",
    "\n",
    "async with rag.chat(\n",
    "    documents=[document_path],\n",
    "    source_storage=RagnaDemoSourceStorage,\n",
    "    assistant=RagnaDemoAssistant,\n",
    ") as chat:\n",
    "    prompt = \"What is Ragna?\"\n",
    "    answer = await chat.answer(prompt)\n",
    "\n",
    "print(answer)"
   ]
  },
  {
   "cell_type": "code",
   "execution_count": 11,
   "id": "4c2f04c8-a0e1-47fc-a900-bc03b91088a2",
   "metadata": {},
   "outputs": [
    {
     "name": "stdout",
     "output_type": "stream",
     "text": [
      "{('Chroma', 'OpenAI/gpt-3.5-turbo-16k'): <coroutine object answer_prompt at 0x7f66e654ccc0>,\n",
      " ('Chroma', 'OpenAI/gpt-4'): <coroutine object answer_prompt at 0x7f66e654c640>,\n",
      " ('LanceDB', 'OpenAI/gpt-3.5-turbo-16k'): <coroutine object answer_prompt at 0x7f66e654c540>,\n",
      " ('LanceDB', 'OpenAI/gpt-4'): <coroutine object answer_prompt at 0x7f66e65cd640>}\n"
     ]
    }
   ],
   "source": [
    "import asyncio\n",
    "import itertools\n",
    "from pprint import pprint\n",
    "\n",
    "source_storages = [Chroma, LanceDB]\n",
    "assistants = [Gpt35Turbo16k, Gpt4]\n",
    "\n",
    "\n",
    "async def answer_prompt(source_storage, assistant):\n",
    "    async with rag.chat(\n",
    "        documents=[document_path],\n",
    "        source_storage=source_storage,\n",
    "        assistant=assistant,\n",
    "    ) as chat:\n",
    "        message = await chat.answer(prompt)\n",
    "        return message.content\n",
    "\n",
    "\n",
    "experiments = {\n",
    "    (source_storage.display_name(), assistant.display_name()): answer_prompt(\n",
    "        source_storage, assistant\n",
    "    )\n",
    "    for source_storage, assistant in itertools.product(source_storages, assistants)\n",
    "}\n",
    "\n",
    "pprint(experiments)"
   ]
  },
  {
   "cell_type": "code",
   "execution_count": 12,
   "id": "d125a99d-51c2-4008-b49b-0c648abdb9e0",
   "metadata": {},
   "outputs": [
    {
     "name": "stdout",
     "output_type": "stream",
     "text": [
      "huggingface/tokenizers: The current process just got forked, after parallelism has already been used. Disabling parallelism to avoid deadlocks...\n",
      "To disable this warning, you can either:\n",
      "\t- Avoid using `tokenizers` before the fork if possible\n",
      "\t- Explicitly set the environment variable TOKENIZERS_PARALLELISM=(true | false)\n",
      "{('Chroma', 'OpenAI/gpt-3.5-turbo-16k'): 'Ragna is an open-source RAG '\n",
      "                                         '(Retrieve, Analyze, Generate) '\n",
      "                                         'orchestration app. It is designed to '\n",
      "                                         'assist in the creation and '\n",
      "                                         'management of conversational AI '\n",
      "                                         'models. Ragna provides a '\n",
      "                                         'user-friendly interface for '\n",
      "                                         'developers to retrieve data, analyze '\n",
      "                                         'it, and generate responses. It is '\n",
      "                                         'built on top of the Rasa framework '\n",
      "                                         'and can be used to train and deploy '\n",
      "                                         'AI models for various applications '\n",
      "                                         'such as chatbots and virtual '\n",
      "                                         'assistants.',\n",
      " ('Chroma', 'OpenAI/gpt-4'): 'Ragna is an open-source RAG orchestration app.',\n",
      " ('LanceDB', 'OpenAI/gpt-3.5-turbo-16k'): 'Ragna is an open-source rag '\n",
      "                                          'orchestration app. It is a software '\n",
      "                                          'application that allows users to '\n",
      "                                          'create and arrange musical '\n",
      "                                          'compositions using ragtime music. '\n",
      "                                          'It is designed to be accessible and '\n",
      "                                          'customizable for musicians and '\n",
      "                                          'composers.',\n",
      " ('LanceDB', 'OpenAI/gpt-4'): 'Ragna is an open-source rag orchestration app.'}\n"
     ]
    }
   ],
   "source": [
    "results = dict(zip(experiments.keys(), await asyncio.gather(*experiments.values())))\n",
    "pprint(results)"
   ]
  }
 ],
 "metadata": {
  "kernelspec": {
   "display_name": "Python 3 (ipykernel)",
   "language": "python",
   "name": "python3"
  },
  "language_info": {
   "codemirror_mode": {
    "name": "ipython",
    "version": 3
   },
   "file_extension": ".py",
   "mimetype": "text/x-python",
   "name": "python",
   "nbconvert_exporter": "python",
   "pygments_lexer": "ipython3",
   "version": "3.9.18"
  }
 },
 "nbformat": 4,
 "nbformat_minor": 5
}
