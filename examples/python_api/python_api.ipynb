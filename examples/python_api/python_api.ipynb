{
 "cells": [
  {
   "cell_type": "code",
   "execution_count": 1,
   "id": "3d1b9f01-ae07-488e-b3d2-62d01ad828c9",
   "metadata": {},
   "outputs": [],
   "source": [
    "from dotenv import load_dotenv\n",
    "\n",
    "assert load_dotenv(\"../../.env\")"
   ]
  },
  {
   "cell_type": "code",
   "execution_count": 2,
   "id": "a3e91c88-13ca-417e-8205-9ef3b16f0d7d",
   "metadata": {},
   "outputs": [
    {
     "data": {
      "text/plain": [
       "'0.1.dev21+g7f8ec2d.d20230925071852'"
      ]
     },
     "execution_count": 2,
     "metadata": {},
     "output_type": "execute_result"
    }
   ],
   "source": [
    "import ragna\n",
    "\n",
    "ragna.__version__"
   ]
  },
  {
   "cell_type": "code",
   "execution_count": 3,
   "id": "5a3759a6-ffb0-47f7-be40-cf9d62fc67da",
   "metadata": {},
   "outputs": [
    {
     "data": {
      "text/plain": [
       "Config(state_database_url='sqlite://', queue_database_url='redis://127.0.0.1:6379', ragna_api_url='http://127.0.0.1:31476', ragna_ui_url='http://127.0.0.1:31477', local_cache_root=PosixPath('/home/philip/.cache/ragna'), document_class=<class 'ragna.core.LocalDocument'>, upload_token_secret='ef1ffa68d4d397af5373c2bf2095abef937be87b8a52e4debabae0c0dfcf9f38', upload_token_ttl=30, registered_source_storage_classes={'Ragna/DemoSourceStorage': <class 'ragna.source_storage._demo.RagnaDemoSourceStorage'>}, registered_assistant_classes={'Ragna/DemoAssistant': <class 'ragna.assistant._demo.RagnaDemoAssistant'>})"
      ]
     },
     "execution_count": 3,
     "metadata": {},
     "output_type": "execute_result"
    }
   ],
   "source": [
    "from ragna import demo_config, Config\n",
    "\n",
    "demo_config"
   ]
  },
  {
   "cell_type": "code",
   "execution_count": 4,
   "id": "87613cac-44ba-4b85-ad3e-a1127dd65aa5",
   "metadata": {},
   "outputs": [],
   "source": [
    "document_path = \"demo_document.txt\"\n",
    "\n",
    "with open(document_path, \"w\") as file:\n",
    "    file.write(\"Ragna is an open-source RAG orchestration app\\n\")"
   ]
  },
  {
   "cell_type": "code",
   "execution_count": 5,
   "id": "818ff37c-d693-44b2-9d56-104eb2d86f59",
   "metadata": {},
   "outputs": [
    {
     "ename": "RagnaException",
     "evalue": "Worker process terminated unexpectedly",
     "output_type": "error",
     "traceback": [
      "\u001b[0;31m---------------------------------------------------------------------------\u001b[0m",
      "\u001b[0;31mRagnaException\u001b[0m                            Traceback (most recent call last)",
      "Cell \u001b[0;32mIn[5], line 9\u001b[0m\n\u001b[1;32m      2\u001b[0m \u001b[38;5;28;01mfrom\u001b[39;00m \u001b[38;5;21;01mragna\u001b[39;00m\u001b[38;5;21;01m.\u001b[39;00m\u001b[38;5;21;01massistant\u001b[39;00m \u001b[38;5;28;01mimport\u001b[39;00m (\n\u001b[1;32m      3\u001b[0m     RagnaDemoAssistant,\n\u001b[1;32m      4\u001b[0m     OpenaiGpt35Turbo16kAssistant,\n\u001b[1;32m      5\u001b[0m     OpenaiGpt4Assistant,\n\u001b[1;32m      6\u001b[0m )\n\u001b[1;32m      7\u001b[0m \u001b[38;5;28;01mfrom\u001b[39;00m \u001b[38;5;21;01mragna\u001b[39;00m\u001b[38;5;21;01m.\u001b[39;00m\u001b[38;5;21;01msource_storage\u001b[39;00m \u001b[38;5;28;01mimport\u001b[39;00m ChromaSourceStorage, RagnaDemoSourceStorage\n\u001b[0;32m----> 9\u001b[0m rag \u001b[38;5;241m=\u001b[39m \u001b[43mRag\u001b[49m\u001b[43m(\u001b[49m\u001b[43mdemo_config\u001b[49m\u001b[43m)\u001b[49m\n\u001b[1;32m     11\u001b[0m \u001b[38;5;28;01masync\u001b[39;00m \u001b[38;5;28;01mwith\u001b[39;00m \u001b[38;5;28;01mawait\u001b[39;00m rag\u001b[38;5;241m.\u001b[39mnew_chat(\n\u001b[1;32m     12\u001b[0m     documents\u001b[38;5;241m=\u001b[39m[document_path],\n\u001b[1;32m     13\u001b[0m     source_storage\u001b[38;5;241m=\u001b[39mRagnaDemoSourceStorage,\n\u001b[1;32m     14\u001b[0m     assistant\u001b[38;5;241m=\u001b[39mRagnaDemoAssistant,\n\u001b[1;32m     15\u001b[0m ) \u001b[38;5;28;01mas\u001b[39;00m chat:\n\u001b[1;32m     16\u001b[0m     prompt \u001b[38;5;241m=\u001b[39m \u001b[38;5;124m\"\u001b[39m\u001b[38;5;124mWhat is Ragna?\u001b[39m\u001b[38;5;124m\"\u001b[39m\n",
      "File \u001b[0;32m~/git/ora/ragna/core/_rag.py:51\u001b[0m, in \u001b[0;36mRag.__init__\u001b[0;34m(self, config, start_redis_server, start_ragna_worker, deselect_unavailable_components)\u001b[0m\n\u001b[1;32m     43\u001b[0m \u001b[38;5;28mself\u001b[39m\u001b[38;5;241m.\u001b[39m_queue \u001b[38;5;241m=\u001b[39m Queue()\n\u001b[1;32m     44\u001b[0m \u001b[38;5;66;03m# self._queue.task(name=RagnaTask.__qualname__)(Worker._execute_job)\u001b[39;00m\n\u001b[1;32m     45\u001b[0m \u001b[38;5;66;03m# self._queue, redis_server_proc = _get_queue(\u001b[39;00m\n\u001b[1;32m     46\u001b[0m \u001b[38;5;66;03m#     self.config.queue_database_url, start_redis_server=start_redis_server\u001b[39;00m\n\u001b[0;32m   (...)\u001b[0m\n\u001b[1;32m     49\u001b[0m \u001b[38;5;66;03m#     self._logger.info(\"Started redis server\")\u001b[39;00m\n\u001b[1;32m     50\u001b[0m \u001b[38;5;66;03m#     self._subprocesses.add(redis_server_proc)\u001b[39;00m\n\u001b[0;32m---> 51\u001b[0m ragna_worker_proc \u001b[38;5;241m=\u001b[39m \u001b[38;5;28;43mself\u001b[39;49m\u001b[38;5;241;43m.\u001b[39;49m\u001b[43m_start_ragna_worker\u001b[49m\u001b[43m(\u001b[49m\u001b[43mstart_ragna_worker\u001b[49m\u001b[43m)\u001b[49m\n\u001b[1;32m     52\u001b[0m \u001b[38;5;28;01mif\u001b[39;00m ragna_worker_proc \u001b[38;5;129;01mis\u001b[39;00m \u001b[38;5;129;01mnot\u001b[39;00m \u001b[38;5;28;01mNone\u001b[39;00m:\n\u001b[1;32m     53\u001b[0m     \u001b[38;5;28mself\u001b[39m\u001b[38;5;241m.\u001b[39m_logger\u001b[38;5;241m.\u001b[39minfo(\u001b[38;5;124m\"\u001b[39m\u001b[38;5;124mStarted ragna worker\u001b[39m\u001b[38;5;124m\"\u001b[39m)\n",
      "File \u001b[0;32m~/git/ora/ragna/core/_rag.py:128\u001b[0m, in \u001b[0;36mRag._start_ragna_worker\u001b[0;34m(self, start)\u001b[0m\n\u001b[1;32m    126\u001b[0m     \u001b[38;5;28;01mreturn\u001b[39;00m proc\n\u001b[1;32m    127\u001b[0m \u001b[38;5;28;01melse\u001b[39;00m:\n\u001b[0;32m--> 128\u001b[0m     \u001b[38;5;28;01mraise\u001b[39;00m RagnaException(\n\u001b[1;32m    129\u001b[0m         \u001b[38;5;124m\"\u001b[39m\u001b[38;5;124mWorker process terminated unexpectedly\u001b[39m\u001b[38;5;124m\"\u001b[39m, stdout\u001b[38;5;241m=\u001b[39mstdout, stderr\u001b[38;5;241m=\u001b[39mstderr\n\u001b[1;32m    130\u001b[0m     )\n",
      "\u001b[0;31mRagnaException\u001b[0m: Worker process terminated unexpectedly"
     ]
    }
   ],
   "source": [
    "from ragna.core import Rag\n",
    "from ragna.assistant import (\n",
    "    RagnaDemoAssistant,\n",
    "    OpenaiGpt35Turbo16kAssistant,\n",
    "    OpenaiGpt4Assistant,\n",
    ")\n",
    "from ragna.source_storage import ChromaSourceStorage, RagnaDemoSourceStorage\n",
    "\n",
    "rag = Rag(demo_config)\n",
    "\n",
    "async with await rag.new_chat(\n",
    "    documents=[document_path],\n",
    "    source_storage=RagnaDemoSourceStorage,\n",
    "    assistant=RagnaDemoAssistant,\n",
    ") as chat:\n",
    "    prompt = \"What is Ragna?\"\n",
    "    answer = await chat.answer(prompt)\n",
    "\n",
    "print(answer)"
   ]
  },
  {
   "cell_type": "code",
   "execution_count": null,
   "id": "4c2f04c8-a0e1-47fc-a900-bc03b91088a2",
   "metadata": {},
   "outputs": [],
   "source": [
    "import itertools\n",
    "import asyncio\n",
    "from pprint import pprint\n",
    "\n",
    "source_storages = [ChromaSourceStorage]\n",
    "assistants = [OpenaiGpt35Turbo16kAssistant, OpenaiGpt4Assistant]\n",
    "\n",
    "\n",
    "async def answer_prompt(source_storage, assistant):\n",
    "    chat = await rag.new_chat(\n",
    "        documents=[document_path],\n",
    "        source_storage=source_storage,\n",
    "        assistant=assistant,\n",
    "    )\n",
    "    await chat.start()\n",
    "    return await chat.answer(prompt)\n",
    "\n",
    "\n",
    "experiments = {\n",
    "    (source_storage.display_name(), assistant.display_name()): answer_prompt(\n",
    "        source_storage, assistant\n",
    "    )\n",
    "    for source_storage, assistant in itertools.product(source_storages, assistants)\n",
    "}\n",
    "\n",
    "pprint(experiments)"
   ]
  },
  {
   "cell_type": "code",
   "execution_count": null,
   "id": "d125a99d-51c2-4008-b49b-0c648abdb9e0",
   "metadata": {},
   "outputs": [],
   "source": [
    "results = dict(zip(experiments.keys(), await asyncio.gather(*experiments.values())))\n",
    "pprint(results)"
   ]
  }
 ],
 "metadata": {
  "kernelspec": {
   "display_name": "Python 3 (ipykernel)",
   "language": "python",
   "name": "python3"
  },
  "language_info": {
   "codemirror_mode": {
    "name": "ipython",
    "version": 3
   },
   "file_extension": ".py",
   "mimetype": "text/x-python",
   "name": "python",
   "nbconvert_exporter": "python",
   "pygments_lexer": "ipython3",
   "version": "3.9.18"
  }
 },
 "nbformat": 4,
 "nbformat_minor": 5
}
